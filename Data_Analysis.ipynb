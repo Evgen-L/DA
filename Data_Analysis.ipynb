{
 "cells": [
  {
   "cell_type": "markdown",
   "metadata": {},
   "source": [
    "# Этап 1: Получение данных с GitHub и записывание их в SQLite"
   ]
  },
  {
   "cell_type": "code",
   "execution_count": null,
   "metadata": {},
   "outputs": [],
   "source": [
    "import git\n",
    "SOURCE_URL = 'https://github.com/CSSEGISandData/COVID-19'\n",
    "DATA_PATH = '/data'\n",
    "git.Repo.clone_from(SOURCE_URL, DATA_PATH)"
   ]
  },
  {
   "cell_type": "markdown",
   "metadata": {},
   "source": [
    "## Импорт"
   ]
  },
  {
   "cell_type": "code",
   "execution_count": 103,
   "metadata": {},
   "outputs": [],
   "source": [
    "import sqlite3 as sl\n",
    "import csv\n",
    "import os\n",
    "import re\n",
    "from re import search\n",
    "\n"
   ]
  },
  {
   "cell_type": "markdown",
   "metadata": {},
   "source": [
    "## Функции и переменные"
   ]
  },
  {
   "cell_type": "code",
   "execution_count": 104,
   "metadata": {},
   "outputs": [],
   "source": [
    "\n",
    "\n",
    "def GetValuesPart(text):\n",
    "    return re.sub('\\w+[^,]', '?', text)\n",
    "\n",
    "def ReplaceFields(text, fieldReplaceStorage):\n",
    "    for key in fieldReplaceStorage:\n",
    "        text = text.replace(key, fieldReplaceStorage[key])\n",
    "    return text  \n",
    "\n",
    "def CreateTableInDB(nameDB, query, queryUS):\n",
    "    with con:\n",
    "        cur.execute(query)\n",
    "        cur.execute(queryUS)\n",
    "\n",
    "def GetFileNameList(path):\n",
    "    result = []\n",
    "    for root, dirs, files in os.walk(path): \n",
    "        for file in files: \n",
    "            result.append(os.path.join(root,file).replace(\"\\\\\", \"/\"))\n",
    "    return result        \n",
    "    \n",
    "def ReplaceInList(row, replaceable, on):\n",
    "    result = []\n",
    "    for element in row:\n",
    "        element = element.replace(replaceable, on)\n",
    "        result.append(element)\n",
    "    return result    \n",
    "\n",
    "def GetFileDateFromName(name):\n",
    "    return re.search('\\d+-\\d+-\\d+', name).group() \n",
    "\n",
    "def AddFileDateFieldToText(headRow):\n",
    "    if search(\"\\w+\", headRow):\n",
    "        return headRow + \",File_Date\"\n",
    "    else:\n",
    "      return \"File_Date\"\n",
    "\n",
    "def ImportDataFromFileReaderToDB(fileReader, fileDate, insertQuery):\n",
    "    for row in fileReader:\n",
    "        row = ReplaceInList(row, \"/\", \"-\")\n",
    "        row.append(fileDate)\n",
    "        cur.execute(insertQuery, row)\n",
    "\n",
    "def GetHeadRowFromFileReader(fileReader):\n",
    "    headRow = \",\".join(next(fileReader))\n",
    "    headRow = ReplaceFields(headRow, fieldReplaceStorage) \n",
    "    return headRow\n",
    "\n",
    "def ImportDataFromFilesToDB(fileNameList, nameTable):\n",
    "    for name in fileNameList:\n",
    "        if (\".csv\" in name):\n",
    "            with open(name, encoding='utf-8') as r_file:\n",
    "                fileReader = csv.reader(r_file, delimiter = \",\")\n",
    "                headRow = AddFileDateFieldToText(GetHeadRowFromFileReader(fileReader))\n",
    "                valuesPart = GetValuesPart(headRow)\n",
    "                insertQuery = f\"INSERT INTO {nameTable} ({headRow}) values({valuesPart}) \" \n",
    "                fileDate = GetFileDateFromName(name) \n",
    "                ImportDataFromFileReaderToDB(fileReader, fileDate, insertQuery)  \n",
    "                                    \n",
    "\n",
    "def ImportDataFromFoldersToDB(nameTable, folderPathes):\n",
    "    try:\n",
    "        fileNameList = GetFileNameList(folderPathes[0])\n",
    "        ImportDataFromFilesToDB(fileNameList, nameTable)\n",
    "        fileNameList = GetFileNameList(folderPathes[1])\n",
    "        ImportDataFromFilesToDB(fileNameList, nameTableUS)               \n",
    "        con.commit()\n",
    "    \n",
    "    finally:\n",
    "        if cur is not None:\n",
    "            cur.close()\n",
    "\n",
    "        if con is not None:\n",
    "            con.close()\n",
    "\n",
    "fieldReplaceStorage = {\n",
    "    \"Incidence_Rate\": \"Incident_Rate\",\n",
    "    \"Lat,\": \"Latitude,\",\n",
    "    \"Long_\": \"Longitude\",\n",
    "    \"/\": \"_\",\n",
    "    \" \": \"_\",\n",
    "    \"-\": \"_\"\n",
    "}\n",
    "\n",
    "nameTable = \"statistics\"\n",
    "nameTableUS = \"statisticsUS\"\n",
    "nameDB = \"corona_statistics.db\"\n",
    "path1 = \"D:\\GitHub\\DA\\csse_covid_19_data\\csse_covid_19_daily_reports\"\n",
    "path2 = \"D:\\GitHub\\DA\\csse_covid_19_data\\csse_covid_19_daily_reports_us\"\n",
    "pathList = [path1, path2]\n",
    "\n",
    "query = \"\"\"\n",
    "        CREATE TABLE statistics (\n",
    "        FIPS                 INT,\n",
    "        Admin2               TEXT,\n",
    "        Province_State       TEXT,\n",
    "        Country_Region       TEXT,\n",
    "        Last_Update          DATETIME,\n",
    "        Latitude             REAL,\n",
    "        Longitude            REAL,\n",
    "        Confirmed            INT, \n",
    "        Deaths               INT, \n",
    "        Recovered            INT, \n",
    "        Active               INT, \n",
    "        Combined_Key         TEXT,\n",
    "        Incident_Rate        REAL,\n",
    "        Case_Fatality_Ratio  REAL,\n",
    "        File_Date            DATE\n",
    "    );\n",
    "    \"\"\"\n",
    "\n",
    "\n",
    "queryUS = \"\"\"\n",
    "        CREATE TABLE statisticsUS (\n",
    "        FIPS                 INT,\n",
    "        Province_State       TEXT,\n",
    "        Country_Region       TEXT,\n",
    "        Last_Update          DATETIME,\n",
    "        Latitude             REAL, \n",
    "        Longitude            REAL,\n",
    "        Confirmed            INT, \n",
    "        Deaths               INT, \n",
    "        Recovered            INT, \n",
    "        Active               INT, \n",
    "        Incident_Rate        REAL,\n",
    "        Case_Fatality_Ratio  REAL,\n",
    "        Total_Test_Results   REAL,\n",
    "        People_Hospitalized  INT,\n",
    "        UID                  INT,\n",
    "        ISO3                 TEXT,\n",
    "        Testing_Rate         REAL,\n",
    "        Hospitalization_Rate REAL,\n",
    "        People_Tested        INT,\n",
    "        Mortality_Rate       REAL,\n",
    "        Cases_28_Days        REAL,\n",
    "        Deaths_28_Days       REAL,\n",
    "        File_Date            DATE\n",
    "    );\n",
    "    \"\"\""
   ]
  },
  {
   "cell_type": "markdown",
   "metadata": {},
   "source": [
    "## Подключение"
   ]
  },
  {
   "cell_type": "code",
   "execution_count": 105,
   "metadata": {},
   "outputs": [],
   "source": [
    "con = sl.connect(nameDB)  \n",
    "cur = con.cursor()  "
   ]
  },
  {
   "cell_type": "markdown",
   "metadata": {},
   "source": [
    "## Создание таблиц"
   ]
  },
  {
   "cell_type": "code",
   "execution_count": 106,
   "metadata": {},
   "outputs": [],
   "source": [
    "CreateTableInDB(nameDB, query, queryUS)"
   ]
  },
  {
   "cell_type": "markdown",
   "metadata": {},
   "source": [
    "## Импорт данных в SQLite"
   ]
  },
  {
   "cell_type": "code",
   "execution_count": 107,
   "metadata": {},
   "outputs": [],
   "source": [
    "ImportDataFromFoldersToDB(nameTable, pathList)"
   ]
  },
  {
   "cell_type": "markdown",
   "metadata": {},
   "source": [
    "# Этап 2: Обработка данных"
   ]
  },
  {
   "cell_type": "markdown",
   "metadata": {},
   "source": [
    "## Импорт"
   ]
  },
  {
   "cell_type": "code",
   "execution_count": 108,
   "metadata": {},
   "outputs": [],
   "source": [
    "import pandas as pd\n",
    "import sqlite3"
   ]
  },
  {
   "cell_type": "markdown",
   "metadata": {},
   "source": [
    "## Подключение"
   ]
  },
  {
   "cell_type": "code",
   "execution_count": 111,
   "metadata": {},
   "outputs": [],
   "source": [
    "con = sqlite3.connect(\"corona_statistics.db\")\n",
    "cur = con.cursor()"
   ]
  },
  {
   "cell_type": "markdown",
   "metadata": {},
   "source": [
    "## Чтение данных с SQLite"
   ]
  },
  {
   "cell_type": "code",
   "execution_count": 112,
   "metadata": {},
   "outputs": [],
   "source": [
    "query = \"SELECT * FROM statistics\"\n",
    "queryUS = \"SELECT * FROM statisticsUS\"\n",
    "df = pd.read_sql(query, con)\n",
    "dfUS = pd.read_sql(queryUS, con)"
   ]
  },
  {
   "cell_type": "markdown",
   "metadata": {},
   "source": [
    "## Reports"
   ]
  },
  {
   "cell_type": "markdown",
   "metadata": {},
   "source": [
    "## 1) Получение представления о таблицах, с которыми будем работать"
   ]
  },
  {
   "cell_type": "code",
   "execution_count": 113,
   "metadata": {},
   "outputs": [
    {
     "data": {
      "text/html": [
       "<div>\n",
       "<style scoped>\n",
       "    .dataframe tbody tr th:only-of-type {\n",
       "        vertical-align: middle;\n",
       "    }\n",
       "\n",
       "    .dataframe tbody tr th {\n",
       "        vertical-align: top;\n",
       "    }\n",
       "\n",
       "    .dataframe thead th {\n",
       "        text-align: right;\n",
       "    }\n",
       "</style>\n",
       "<table border=\"1\" class=\"dataframe\">\n",
       "  <thead>\n",
       "    <tr style=\"text-align: right;\">\n",
       "      <th></th>\n",
       "      <th>FIPS</th>\n",
       "      <th>Admin2</th>\n",
       "      <th>Province_State</th>\n",
       "      <th>Country_Region</th>\n",
       "      <th>Last_Update</th>\n",
       "      <th>Latitude</th>\n",
       "      <th>Longitude</th>\n",
       "      <th>Confirmed</th>\n",
       "      <th>Deaths</th>\n",
       "      <th>Recovered</th>\n",
       "      <th>Active</th>\n",
       "      <th>Combined_Key</th>\n",
       "      <th>Incident_Rate</th>\n",
       "      <th>Case_Fatality_Ratio</th>\n",
       "      <th>File_Date</th>\n",
       "    </tr>\n",
       "  </thead>\n",
       "  <tbody>\n",
       "    <tr>\n",
       "      <th>0</th>\n",
       "      <td></td>\n",
       "      <td></td>\n",
       "      <td></td>\n",
       "      <td>Afghanistan</td>\n",
       "      <td>2021-01-02 05:22:33</td>\n",
       "      <td>33.93911</td>\n",
       "      <td>67.709953</td>\n",
       "      <td>52513</td>\n",
       "      <td>2201</td>\n",
       "      <td>41727</td>\n",
       "      <td>0</td>\n",
       "      <td>Afghanistan</td>\n",
       "      <td>0.0</td>\n",
       "      <td>4.252222</td>\n",
       "      <td>01-01-2021</td>\n",
       "    </tr>\n",
       "    <tr>\n",
       "      <th>1</th>\n",
       "      <td></td>\n",
       "      <td></td>\n",
       "      <td></td>\n",
       "      <td>Albania</td>\n",
       "      <td>2021-01-02 05:22:33</td>\n",
       "      <td>41.1533</td>\n",
       "      <td>20.1683</td>\n",
       "      <td>58316</td>\n",
       "      <td>1181</td>\n",
       "      <td>33634</td>\n",
       "      <td>23501</td>\n",
       "      <td>Albania</td>\n",
       "      <td>2026.409062</td>\n",
       "      <td>2.025173</td>\n",
       "      <td>01-01-2021</td>\n",
       "    </tr>\n",
       "    <tr>\n",
       "      <th>2</th>\n",
       "      <td></td>\n",
       "      <td></td>\n",
       "      <td></td>\n",
       "      <td>Algeria</td>\n",
       "      <td>2021-01-02 05:22:33</td>\n",
       "      <td>28.0339</td>\n",
       "      <td>1.6596</td>\n",
       "      <td>99897</td>\n",
       "      <td>2762</td>\n",
       "      <td>67395</td>\n",
       "      <td>29740</td>\n",
       "      <td>Algeria</td>\n",
       "      <td>227.809861</td>\n",
       "      <td>2.764848</td>\n",
       "      <td>01-01-2021</td>\n",
       "    </tr>\n",
       "    <tr>\n",
       "      <th>3</th>\n",
       "      <td></td>\n",
       "      <td></td>\n",
       "      <td></td>\n",
       "      <td>Andorra</td>\n",
       "      <td>2021-01-02 05:22:33</td>\n",
       "      <td>42.5063</td>\n",
       "      <td>1.5218</td>\n",
       "      <td>8117</td>\n",
       "      <td>84</td>\n",
       "      <td>7463</td>\n",
       "      <td>570</td>\n",
       "      <td>Andorra</td>\n",
       "      <td>10505.403482</td>\n",
       "      <td>1.034865</td>\n",
       "      <td>01-01-2021</td>\n",
       "    </tr>\n",
       "    <tr>\n",
       "      <th>4</th>\n",
       "      <td></td>\n",
       "      <td></td>\n",
       "      <td></td>\n",
       "      <td>Angola</td>\n",
       "      <td>2021-01-02 05:22:33</td>\n",
       "      <td>-11.2027</td>\n",
       "      <td>17.8739</td>\n",
       "      <td>17568</td>\n",
       "      <td>405</td>\n",
       "      <td>11146</td>\n",
       "      <td>6017</td>\n",
       "      <td>Angola</td>\n",
       "      <td>53.452981</td>\n",
       "      <td>2.305328</td>\n",
       "      <td>01-01-2021</td>\n",
       "    </tr>\n",
       "    <tr>\n",
       "      <th>...</th>\n",
       "      <td>...</td>\n",
       "      <td>...</td>\n",
       "      <td>...</td>\n",
       "      <td>...</td>\n",
       "      <td>...</td>\n",
       "      <td>...</td>\n",
       "      <td>...</td>\n",
       "      <td>...</td>\n",
       "      <td>...</td>\n",
       "      <td>...</td>\n",
       "      <td>...</td>\n",
       "      <td>...</td>\n",
       "      <td>...</td>\n",
       "      <td>...</td>\n",
       "      <td>...</td>\n",
       "    </tr>\n",
       "    <tr>\n",
       "      <th>95</th>\n",
       "      <td></td>\n",
       "      <td></td>\n",
       "      <td>Araucania</td>\n",
       "      <td>Chile</td>\n",
       "      <td>2021-01-02 05:22:33</td>\n",
       "      <td>-38.9489</td>\n",
       "      <td>-72.3311</td>\n",
       "      <td>23161</td>\n",
       "      <td>311</td>\n",
       "      <td>21736</td>\n",
       "      <td>1114</td>\n",
       "      <td>Araucania, Chile</td>\n",
       "      <td>2419.600846</td>\n",
       "      <td>1.342774</td>\n",
       "      <td>01-01-2021</td>\n",
       "    </tr>\n",
       "    <tr>\n",
       "      <th>96</th>\n",
       "      <td></td>\n",
       "      <td></td>\n",
       "      <td>Arica y Parinacota</td>\n",
       "      <td>Chile</td>\n",
       "      <td>2021-01-02 05:22:33</td>\n",
       "      <td>-18.594</td>\n",
       "      <td>-69.4785</td>\n",
       "      <td>10859</td>\n",
       "      <td>225</td>\n",
       "      <td>10408</td>\n",
       "      <td>226</td>\n",
       "      <td>Arica y Parinacota, Chile</td>\n",
       "      <td>4803.421979</td>\n",
       "      <td>2.072014</td>\n",
       "      <td>01-01-2021</td>\n",
       "    </tr>\n",
       "    <tr>\n",
       "      <th>97</th>\n",
       "      <td></td>\n",
       "      <td></td>\n",
       "      <td>Atacama</td>\n",
       "      <td>Chile</td>\n",
       "      <td>2021-01-02 05:22:33</td>\n",
       "      <td>-27.5661</td>\n",
       "      <td>-70.0503</td>\n",
       "      <td>8520</td>\n",
       "      <td>113</td>\n",
       "      <td>8328</td>\n",
       "      <td>79</td>\n",
       "      <td>Atacama, Chile</td>\n",
       "      <td>2948.668254</td>\n",
       "      <td>1.326291</td>\n",
       "      <td>01-01-2021</td>\n",
       "    </tr>\n",
       "    <tr>\n",
       "      <th>98</th>\n",
       "      <td></td>\n",
       "      <td></td>\n",
       "      <td>Aysen</td>\n",
       "      <td>Chile</td>\n",
       "      <td>2021-01-02 05:22:33</td>\n",
       "      <td>-45.9864</td>\n",
       "      <td>-73.7669</td>\n",
       "      <td>1588</td>\n",
       "      <td>15</td>\n",
       "      <td>1436</td>\n",
       "      <td>137</td>\n",
       "      <td>Aysen, Chile</td>\n",
       "      <td>1539.386184</td>\n",
       "      <td>0.944584</td>\n",
       "      <td>01-01-2021</td>\n",
       "    </tr>\n",
       "    <tr>\n",
       "      <th>99</th>\n",
       "      <td></td>\n",
       "      <td></td>\n",
       "      <td>Biobio</td>\n",
       "      <td>Chile</td>\n",
       "      <td>2021-01-02 05:22:33</td>\n",
       "      <td>-37.4464</td>\n",
       "      <td>-72.1416</td>\n",
       "      <td>47898</td>\n",
       "      <td>802</td>\n",
       "      <td>44427</td>\n",
       "      <td>2669</td>\n",
       "      <td>Biobio, Chile</td>\n",
       "      <td>3076.685905</td>\n",
       "      <td>1.674391</td>\n",
       "      <td>01-01-2021</td>\n",
       "    </tr>\n",
       "  </tbody>\n",
       "</table>\n",
       "<p>100 rows × 15 columns</p>\n",
       "</div>"
      ],
      "text/plain": [
       "   FIPS Admin2      Province_State Country_Region          Last_Update  \\\n",
       "0                                     Afghanistan  2021-01-02 05:22:33   \n",
       "1                                         Albania  2021-01-02 05:22:33   \n",
       "2                                         Algeria  2021-01-02 05:22:33   \n",
       "3                                         Andorra  2021-01-02 05:22:33   \n",
       "4                                          Angola  2021-01-02 05:22:33   \n",
       "..  ...    ...                 ...            ...                  ...   \n",
       "95                       Araucania          Chile  2021-01-02 05:22:33   \n",
       "96              Arica y Parinacota          Chile  2021-01-02 05:22:33   \n",
       "97                         Atacama          Chile  2021-01-02 05:22:33   \n",
       "98                           Aysen          Chile  2021-01-02 05:22:33   \n",
       "99                          Biobio          Chile  2021-01-02 05:22:33   \n",
       "\n",
       "    Latitude  Longitude Confirmed Deaths Recovered Active  \\\n",
       "0   33.93911  67.709953     52513   2201     41727      0   \n",
       "1    41.1533    20.1683     58316   1181     33634  23501   \n",
       "2    28.0339     1.6596     99897   2762     67395  29740   \n",
       "3    42.5063     1.5218      8117     84      7463    570   \n",
       "4   -11.2027    17.8739     17568    405     11146   6017   \n",
       "..       ...        ...       ...    ...       ...    ...   \n",
       "95  -38.9489   -72.3311     23161    311     21736   1114   \n",
       "96   -18.594   -69.4785     10859    225     10408    226   \n",
       "97  -27.5661   -70.0503      8520    113      8328     79   \n",
       "98  -45.9864   -73.7669      1588     15      1436    137   \n",
       "99  -37.4464   -72.1416     47898    802     44427   2669   \n",
       "\n",
       "                 Combined_Key Incident_Rate Case_Fatality_Ratio   File_Date  \n",
       "0                 Afghanistan           0.0            4.252222  01-01-2021  \n",
       "1                     Albania   2026.409062            2.025173  01-01-2021  \n",
       "2                     Algeria    227.809861            2.764848  01-01-2021  \n",
       "3                     Andorra  10505.403482            1.034865  01-01-2021  \n",
       "4                      Angola     53.452981            2.305328  01-01-2021  \n",
       "..                        ...           ...                 ...         ...  \n",
       "95           Araucania, Chile   2419.600846            1.342774  01-01-2021  \n",
       "96  Arica y Parinacota, Chile   4803.421979            2.072014  01-01-2021  \n",
       "97             Atacama, Chile   2948.668254            1.326291  01-01-2021  \n",
       "98               Aysen, Chile   1539.386184            0.944584  01-01-2021  \n",
       "99              Biobio, Chile   3076.685905            1.674391  01-01-2021  \n",
       "\n",
       "[100 rows x 15 columns]"
      ]
     },
     "execution_count": 113,
     "metadata": {},
     "output_type": "execute_result"
    }
   ],
   "source": [
    "df.head(100)"
   ]
  },
  {
   "cell_type": "code",
   "execution_count": 114,
   "metadata": {},
   "outputs": [
    {
     "name": "stdout",
     "output_type": "stream",
     "text": [
      "<class 'pandas.core.frame.DataFrame'>\n",
      "RangeIndex: 2199731 entries, 0 to 2199730\n",
      "Data columns (total 15 columns):\n",
      " #   Column               Dtype \n",
      "---  ------               ----- \n",
      " 0   FIPS                 object\n",
      " 1   Admin2               object\n",
      " 2   Province_State       object\n",
      " 3   Country_Region       object\n",
      " 4   Last_Update          object\n",
      " 5   Latitude             object\n",
      " 6   Longitude            object\n",
      " 7   Confirmed            object\n",
      " 8   Deaths               object\n",
      " 9   Recovered            object\n",
      " 10  Active               object\n",
      " 11  Combined_Key         object\n",
      " 12  Incident_Rate        object\n",
      " 13  Case_Fatality_Ratio  object\n",
      " 14  File_Date            object\n",
      "dtypes: object(15)\n",
      "memory usage: 251.7+ MB\n"
     ]
    }
   ],
   "source": [
    "df.info()"
   ]
  },
  {
   "cell_type": "markdown",
   "metadata": {},
   "source": [
    "## 2) Изменяем типы данных кроме Case_Fatality_Ratio, так как для него будут рассчитываться значения из других полей"
   ]
  },
  {
   "cell_type": "code",
   "execution_count": 115,
   "metadata": {},
   "outputs": [],
   "source": [
    "def SetStringType(df, *columnNames):\n",
    "    for name in columnNames:\n",
    "        df[name] = df[name].astype(\"string\")"
   ]
  },
  {
   "cell_type": "code",
   "execution_count": 116,
   "metadata": {},
   "outputs": [],
   "source": [
    "df[\"Last_Update\"]         = pd.to_datetime(df[\"Last_Update\"])\n",
    "df['File_Date']           = pd.to_datetime(df['File_Date'])\n",
    "df[\"FIPS\"]                = pd.to_numeric(df[\"FIPS\"])\n",
    "df[\"Confirmed\"]           = pd.to_numeric(df[\"Confirmed\"])\n",
    "df[\"Deaths\"]              = pd.to_numeric(df[\"Deaths\"])\n",
    "df[\"Recovered\"]           = pd.to_numeric(df[\"Recovered\"])\n",
    "df[\"Active\"]              = pd.to_numeric(df[\"Active\"])\n",
    "df[\"Latitude\"]            = pd.to_numeric(df[\"Latitude\"])\n",
    "df[\"Longitude\"]           = pd.to_numeric(df[\"Longitude\"])\n",
    "df[\"Incident_Rate\"]       = pd.to_numeric(df[\"Incident_Rate\"])\n",
    "\n",
    "SetStringType(df, \"Admin2\", \"Province_State\", \"Country_Region\", \"Combined_Key\")"
   ]
  },
  {
   "cell_type": "markdown",
   "metadata": {},
   "source": [
    "## Проверка на нулевые значения"
   ]
  },
  {
   "cell_type": "code",
   "execution_count": 117,
   "metadata": {},
   "outputs": [
    {
     "data": {
      "text/plain": [
       "FIPS                   392274\n",
       "Admin2                   8882\n",
       "Province_State              0\n",
       "Country_Region              0\n",
       "Last_Update                 0\n",
       "Latitude                50278\n",
       "Longitude               50278\n",
       "Confirmed                  28\n",
       "Deaths                    434\n",
       "Recovered              750546\n",
       "Active                 759891\n",
       "Combined_Key             8882\n",
       "Incident_Rate          268767\n",
       "Case_Fatality_Ratio    225348\n",
       "File_Date                   0\n",
       "dtype: int64"
      ]
     },
     "execution_count": 117,
     "metadata": {},
     "output_type": "execute_result"
    }
   ],
   "source": [
    "df.isnull().sum()"
   ]
  },
  {
   "cell_type": "markdown",
   "metadata": {},
   "source": [
    "## FIPS, Admin2, Incident_Rate не изменяем, в остальных null значения заполняем 0"
   ]
  },
  {
   "cell_type": "code",
   "execution_count": 118,
   "metadata": {},
   "outputs": [],
   "source": [
    "df[\"Latitude\"].fillna(0, inplace=True)\n",
    "df[\"Longitude\"].fillna(0, inplace=True)\n",
    "df[\"Active\"].fillna(0, inplace=True)\n",
    "df[\"Deaths\"].fillna(0, inplace=True)\n",
    "df[\"Recovered\"].fillna(0, inplace=True)\n",
    "df[\"Confirmed\"].fillna(0, inplace=True)"
   ]
  },
  {
   "cell_type": "markdown",
   "metadata": {},
   "source": [
    "## Проверка и удаление аномальных значений"
   ]
  },
  {
   "cell_type": "markdown",
   "metadata": {},
   "source": [
    "### FIPS - в порядке"
   ]
  },
  {
   "cell_type": "code",
   "execution_count": 119,
   "metadata": {},
   "outputs": [
    {
     "name": "stdout",
     "output_type": "stream",
     "text": [
      "Min:  60.0\n"
     ]
    }
   ],
   "source": [
    "print('Min: ', df['FIPS'].min())"
   ]
  },
  {
   "cell_type": "markdown",
   "metadata": {},
   "source": [
    "### Last Update - в порядке"
   ]
  },
  {
   "cell_type": "code",
   "execution_count": 120,
   "metadata": {},
   "outputs": [
    {
     "name": "stdout",
     "output_type": "stream",
     "text": [
      "Min:  2020-01-22 17:00:00\n",
      "Max:  2021-10-08 04:21:25\n"
     ]
    }
   ],
   "source": [
    "print('Min: ', df['Last_Update'].min())\n",
    "print('Max: ', df['Last_Update'].max())"
   ]
  },
  {
   "cell_type": "markdown",
   "metadata": {},
   "source": [
    "### Confirmed - ошибка"
   ]
  },
  {
   "cell_type": "code",
   "execution_count": 121,
   "metadata": {},
   "outputs": [
    {
     "name": "stdout",
     "output_type": "stream",
     "text": [
      "Min:  -302844.0\n"
     ]
    }
   ],
   "source": [
    "print('Min: ', df['Confirmed'].min())"
   ]
  },
  {
   "cell_type": "code",
   "execution_count": 122,
   "metadata": {},
   "outputs": [],
   "source": [
    "df = df.drop(df[df.Confirmed < 0].index)"
   ]
  },
  {
   "cell_type": "markdown",
   "metadata": {},
   "source": [
    "### Deaths - ошибка"
   ]
  },
  {
   "cell_type": "code",
   "execution_count": 123,
   "metadata": {},
   "outputs": [
    {
     "name": "stdout",
     "output_type": "stream",
     "text": [
      "Min:  -178.0\n"
     ]
    }
   ],
   "source": [
    "print('Min: ', df['Deaths'].min())"
   ]
  },
  {
   "cell_type": "code",
   "execution_count": 124,
   "metadata": {},
   "outputs": [],
   "source": [
    "df = df.drop(df[df.Deaths < 0].index)"
   ]
  },
  {
   "cell_type": "markdown",
   "metadata": {},
   "source": [
    "### Recovered - ошибка"
   ]
  },
  {
   "cell_type": "code",
   "execution_count": 125,
   "metadata": {},
   "outputs": [
    {
     "name": "stdout",
     "output_type": "stream",
     "text": [
      "Min:  -854405.0\n"
     ]
    }
   ],
   "source": [
    "print('Min: ', df['Recovered'].min())"
   ]
  },
  {
   "cell_type": "code",
   "execution_count": 126,
   "metadata": {},
   "outputs": [],
   "source": [
    "df = df.drop(df[df.Recovered < 0].index)"
   ]
  },
  {
   "cell_type": "markdown",
   "metadata": {},
   "source": [
    "### Active - ошибка"
   ]
  },
  {
   "cell_type": "code",
   "execution_count": 127,
   "metadata": {},
   "outputs": [
    {
     "name": "stdout",
     "output_type": "stream",
     "text": [
      "Min:  -6298082.0\n"
     ]
    }
   ],
   "source": [
    "print('Min: ', df['Active'].min())"
   ]
  },
  {
   "cell_type": "code",
   "execution_count": 128,
   "metadata": {},
   "outputs": [],
   "source": [
    "df = df.drop(df[df.Active < 0].index)"
   ]
  },
  {
   "cell_type": "code",
   "execution_count": 129,
   "metadata": {},
   "outputs": [
    {
     "data": {
      "text/plain": [
       "<BooleanArray>\n",
       "[False]\n",
       "Length: 1, dtype: boolean"
      ]
     },
     "execution_count": 129,
     "metadata": {},
     "output_type": "execute_result"
    }
   ],
   "source": [
    "(df['Country_Region'] == '').unique()"
   ]
  },
  {
   "cell_type": "code",
   "execution_count": 130,
   "metadata": {},
   "outputs": [
    {
     "data": {
      "text/plain": [
       "<BooleanArray>\n",
       "[True, False]\n",
       "Length: 2, dtype: boolean"
      ]
     },
     "execution_count": 130,
     "metadata": {},
     "output_type": "execute_result"
    }
   ],
   "source": [
    "(df['Province_State'] == '').unique()"
   ]
  },
  {
   "cell_type": "markdown",
   "metadata": {},
   "source": [
    "## Так как Combined_Key формируется из Province_State и Country_Region и последний не имет пустых значений, то заполняем Combined_Key с помощью этих полей"
   ]
  },
  {
   "cell_type": "code",
   "execution_count": 131,
   "metadata": {},
   "outputs": [],
   "source": [
    "df['Combined_Key'] = df['Country_Region']\n",
    "existProvince_State = df['Province_State'].notna()\n",
    "df.loc[existProvince_State, 'Combined_Key'] = df.loc[existProvince_State, 'Province_State'] + ' ' + df.loc[existProvince_State, 'Combined_Key']"
   ]
  },
  {
   "cell_type": "markdown",
   "metadata": {},
   "source": [
    "## Case_Fatality_Ratio вычисляется по формуле, взятой с GitHub Case-Fatality Ratio (%) = Number recorded deaths / Number cases"
   ]
  },
  {
   "cell_type": "code",
   "execution_count": 132,
   "metadata": {},
   "outputs": [],
   "source": [
    "#там, где Confirmed(знаменатель) пуст, чтобы избежать ошибок при делении сразу ставим у Case_Fatality_Ratio\n",
    "df.loc[df['Confirmed'] == 0, 'Case_Fatality_Ratio'] = 0 \n",
    "df['Case_Fatality_Ratio'].fillna(df['Deaths'] / df['Confirmed'] * 100, inplace=True)"
   ]
  },
  {
   "cell_type": "markdown",
   "metadata": {},
   "source": [
    "## Получим обновленную информацию"
   ]
  },
  {
   "cell_type": "code",
   "execution_count": 133,
   "metadata": {},
   "outputs": [
    {
     "data": {
      "text/plain": [
       "FIPS                   389824\n",
       "Admin2                   8882\n",
       "Province_State              0\n",
       "Country_Region              0\n",
       "Last_Update                 0\n",
       "Latitude                    0\n",
       "Longitude                   0\n",
       "Confirmed                   0\n",
       "Deaths                      0\n",
       "Recovered                   0\n",
       "Active                      0\n",
       "Combined_Key                0\n",
       "Incident_Rate          265488\n",
       "Case_Fatality_Ratio         0\n",
       "File_Date                   0\n",
       "dtype: int64"
      ]
     },
     "execution_count": 133,
     "metadata": {},
     "output_type": "execute_result"
    }
   ],
   "source": [
    "df.isnull().sum()"
   ]
  },
  {
   "cell_type": "markdown",
   "metadata": {},
   "source": [
    "## Reports-US"
   ]
  },
  {
   "cell_type": "markdown",
   "metadata": {},
   "source": [
    "## 1) Получение представления о таблицах, с которыми будем работать"
   ]
  },
  {
   "cell_type": "code",
   "execution_count": 134,
   "metadata": {},
   "outputs": [
    {
     "data": {
      "text/html": [
       "<div>\n",
       "<style scoped>\n",
       "    .dataframe tbody tr th:only-of-type {\n",
       "        vertical-align: middle;\n",
       "    }\n",
       "\n",
       "    .dataframe tbody tr th {\n",
       "        vertical-align: top;\n",
       "    }\n",
       "\n",
       "    .dataframe thead th {\n",
       "        text-align: right;\n",
       "    }\n",
       "</style>\n",
       "<table border=\"1\" class=\"dataframe\">\n",
       "  <thead>\n",
       "    <tr style=\"text-align: right;\">\n",
       "      <th></th>\n",
       "      <th>FIPS</th>\n",
       "      <th>Province_State</th>\n",
       "      <th>Country_Region</th>\n",
       "      <th>Last_Update</th>\n",
       "      <th>Latitude</th>\n",
       "      <th>Longitude</th>\n",
       "      <th>Confirmed</th>\n",
       "      <th>Deaths</th>\n",
       "      <th>Recovered</th>\n",
       "      <th>Active</th>\n",
       "      <th>...</th>\n",
       "      <th>People_Hospitalized</th>\n",
       "      <th>UID</th>\n",
       "      <th>ISO3</th>\n",
       "      <th>Testing_Rate</th>\n",
       "      <th>Hospitalization_Rate</th>\n",
       "      <th>People_Tested</th>\n",
       "      <th>Mortality_Rate</th>\n",
       "      <th>Cases_28_Days</th>\n",
       "      <th>Deaths_28_Days</th>\n",
       "      <th>File_Date</th>\n",
       "    </tr>\n",
       "  </thead>\n",
       "  <tbody>\n",
       "    <tr>\n",
       "      <th>0</th>\n",
       "      <td>1</td>\n",
       "      <td>Alabama</td>\n",
       "      <td>US</td>\n",
       "      <td>2021-01-02 05:30:44</td>\n",
       "      <td>32.3182</td>\n",
       "      <td>-86.9023</td>\n",
       "      <td>365747</td>\n",
       "      <td>4872</td>\n",
       "      <td>202137</td>\n",
       "      <td>158738</td>\n",
       "      <td>...</td>\n",
       "      <td></td>\n",
       "      <td>84000001</td>\n",
       "      <td>USA</td>\n",
       "      <td>38448.804196</td>\n",
       "      <td></td>\n",
       "      <td>None</td>\n",
       "      <td>None</td>\n",
       "      <td>NaN</td>\n",
       "      <td>NaN</td>\n",
       "      <td>01-01-2021</td>\n",
       "    </tr>\n",
       "    <tr>\n",
       "      <th>1</th>\n",
       "      <td>2</td>\n",
       "      <td>Alaska</td>\n",
       "      <td>US</td>\n",
       "      <td>2021-01-02 05:30:44</td>\n",
       "      <td>61.3707</td>\n",
       "      <td>-152.4044</td>\n",
       "      <td>47019</td>\n",
       "      <td>206</td>\n",
       "      <td>7165</td>\n",
       "      <td>39615</td>\n",
       "      <td>...</td>\n",
       "      <td></td>\n",
       "      <td>84000002</td>\n",
       "      <td>USA</td>\n",
       "      <td>174391.185778</td>\n",
       "      <td></td>\n",
       "      <td>None</td>\n",
       "      <td>None</td>\n",
       "      <td>NaN</td>\n",
       "      <td>NaN</td>\n",
       "      <td>01-01-2021</td>\n",
       "    </tr>\n",
       "    <tr>\n",
       "      <th>2</th>\n",
       "      <td>60</td>\n",
       "      <td>American Samoa</td>\n",
       "      <td>US</td>\n",
       "      <td>2021-01-02 05:30:44</td>\n",
       "      <td>-14.271</td>\n",
       "      <td>-170.132</td>\n",
       "      <td>0</td>\n",
       "      <td>0</td>\n",
       "      <td></td>\n",
       "      <td>0</td>\n",
       "      <td>...</td>\n",
       "      <td></td>\n",
       "      <td>16</td>\n",
       "      <td>ASM</td>\n",
       "      <td>3846.084722</td>\n",
       "      <td></td>\n",
       "      <td>None</td>\n",
       "      <td>None</td>\n",
       "      <td>NaN</td>\n",
       "      <td>NaN</td>\n",
       "      <td>01-01-2021</td>\n",
       "    </tr>\n",
       "    <tr>\n",
       "      <th>3</th>\n",
       "      <td>4</td>\n",
       "      <td>Arizona</td>\n",
       "      <td>US</td>\n",
       "      <td>2021-01-02 05:30:44</td>\n",
       "      <td>33.7298</td>\n",
       "      <td>-111.4312</td>\n",
       "      <td>530267</td>\n",
       "      <td>9015</td>\n",
       "      <td>76934</td>\n",
       "      <td>444318</td>\n",
       "      <td>...</td>\n",
       "      <td></td>\n",
       "      <td>84000004</td>\n",
       "      <td>USA</td>\n",
       "      <td>39551.860582</td>\n",
       "      <td></td>\n",
       "      <td>None</td>\n",
       "      <td>None</td>\n",
       "      <td>NaN</td>\n",
       "      <td>NaN</td>\n",
       "      <td>01-01-2021</td>\n",
       "    </tr>\n",
       "    <tr>\n",
       "      <th>4</th>\n",
       "      <td>5</td>\n",
       "      <td>Arkansas</td>\n",
       "      <td>US</td>\n",
       "      <td>2021-01-02 05:30:44</td>\n",
       "      <td>34.9697</td>\n",
       "      <td>-92.3731</td>\n",
       "      <td>229442</td>\n",
       "      <td>3711</td>\n",
       "      <td>199247</td>\n",
       "      <td>26484</td>\n",
       "      <td>...</td>\n",
       "      <td></td>\n",
       "      <td>84000005</td>\n",
       "      <td>USA</td>\n",
       "      <td>67979.497674</td>\n",
       "      <td></td>\n",
       "      <td>None</td>\n",
       "      <td>None</td>\n",
       "      <td>NaN</td>\n",
       "      <td>NaN</td>\n",
       "      <td>01-01-2021</td>\n",
       "    </tr>\n",
       "    <tr>\n",
       "      <th>...</th>\n",
       "      <td>...</td>\n",
       "      <td>...</td>\n",
       "      <td>...</td>\n",
       "      <td>...</td>\n",
       "      <td>...</td>\n",
       "      <td>...</td>\n",
       "      <td>...</td>\n",
       "      <td>...</td>\n",
       "      <td>...</td>\n",
       "      <td>...</td>\n",
       "      <td>...</td>\n",
       "      <td>...</td>\n",
       "      <td>...</td>\n",
       "      <td>...</td>\n",
       "      <td>...</td>\n",
       "      <td>...</td>\n",
       "      <td>...</td>\n",
       "      <td>...</td>\n",
       "      <td>...</td>\n",
       "      <td>...</td>\n",
       "      <td>...</td>\n",
       "    </tr>\n",
       "    <tr>\n",
       "      <th>95</th>\n",
       "      <td>37</td>\n",
       "      <td>North Carolina</td>\n",
       "      <td>US</td>\n",
       "      <td>2021-01-03 05:30:33</td>\n",
       "      <td>35.6301</td>\n",
       "      <td>-79.8064</td>\n",
       "      <td>558437</td>\n",
       "      <td>6892</td>\n",
       "      <td>403488</td>\n",
       "      <td>148057</td>\n",
       "      <td>...</td>\n",
       "      <td></td>\n",
       "      <td>84000037</td>\n",
       "      <td>USA</td>\n",
       "      <td>67499.306832</td>\n",
       "      <td></td>\n",
       "      <td>None</td>\n",
       "      <td>None</td>\n",
       "      <td>NaN</td>\n",
       "      <td>NaN</td>\n",
       "      <td>01-02-2021</td>\n",
       "    </tr>\n",
       "    <tr>\n",
       "      <th>96</th>\n",
       "      <td>38</td>\n",
       "      <td>North Dakota</td>\n",
       "      <td>US</td>\n",
       "      <td>2021-01-03 05:30:33</td>\n",
       "      <td>47.5289</td>\n",
       "      <td>-99.784</td>\n",
       "      <td>92891</td>\n",
       "      <td>1317</td>\n",
       "      <td>89582</td>\n",
       "      <td>1999</td>\n",
       "      <td>...</td>\n",
       "      <td></td>\n",
       "      <td>84000038</td>\n",
       "      <td>USA</td>\n",
       "      <td>169287.669507</td>\n",
       "      <td></td>\n",
       "      <td>None</td>\n",
       "      <td>None</td>\n",
       "      <td>NaN</td>\n",
       "      <td>NaN</td>\n",
       "      <td>01-02-2021</td>\n",
       "    </tr>\n",
       "    <tr>\n",
       "      <th>97</th>\n",
       "      <td>69</td>\n",
       "      <td>Northern Mariana Islands</td>\n",
       "      <td>US</td>\n",
       "      <td>2021-01-03 05:30:33</td>\n",
       "      <td>15.0979</td>\n",
       "      <td>145.6739</td>\n",
       "      <td>122</td>\n",
       "      <td>2</td>\n",
       "      <td>29</td>\n",
       "      <td>91</td>\n",
       "      <td>...</td>\n",
       "      <td></td>\n",
       "      <td>580</td>\n",
       "      <td>MNP</td>\n",
       "      <td>31827.578703</td>\n",
       "      <td></td>\n",
       "      <td>None</td>\n",
       "      <td>None</td>\n",
       "      <td>NaN</td>\n",
       "      <td>NaN</td>\n",
       "      <td>01-02-2021</td>\n",
       "    </tr>\n",
       "    <tr>\n",
       "      <th>98</th>\n",
       "      <td>39</td>\n",
       "      <td>Ohio</td>\n",
       "      <td>US</td>\n",
       "      <td>2021-01-03 05:30:33</td>\n",
       "      <td>40.3888</td>\n",
       "      <td>-82.7649</td>\n",
       "      <td>714673</td>\n",
       "      <td>13919</td>\n",
       "      <td>573641</td>\n",
       "      <td>132015</td>\n",
       "      <td>...</td>\n",
       "      <td></td>\n",
       "      <td>84000039</td>\n",
       "      <td>USA</td>\n",
       "      <td>66891.445877</td>\n",
       "      <td></td>\n",
       "      <td>None</td>\n",
       "      <td>None</td>\n",
       "      <td>NaN</td>\n",
       "      <td>NaN</td>\n",
       "      <td>01-02-2021</td>\n",
       "    </tr>\n",
       "    <tr>\n",
       "      <th>99</th>\n",
       "      <td>40</td>\n",
       "      <td>Oklahoma</td>\n",
       "      <td>US</td>\n",
       "      <td>2021-01-03 05:30:33</td>\n",
       "      <td>35.5653</td>\n",
       "      <td>-96.9289</td>\n",
       "      <td>296343</td>\n",
       "      <td>2527</td>\n",
       "      <td>259841</td>\n",
       "      <td>33687</td>\n",
       "      <td>...</td>\n",
       "      <td></td>\n",
       "      <td>84000040</td>\n",
       "      <td>USA</td>\n",
       "      <td>67990.718153</td>\n",
       "      <td></td>\n",
       "      <td>None</td>\n",
       "      <td>None</td>\n",
       "      <td>NaN</td>\n",
       "      <td>NaN</td>\n",
       "      <td>01-02-2021</td>\n",
       "    </tr>\n",
       "  </tbody>\n",
       "</table>\n",
       "<p>100 rows × 23 columns</p>\n",
       "</div>"
      ],
      "text/plain": [
       "   FIPS            Province_State Country_Region          Last_Update  \\\n",
       "0     1                   Alabama             US  2021-01-02 05:30:44   \n",
       "1     2                    Alaska             US  2021-01-02 05:30:44   \n",
       "2    60            American Samoa             US  2021-01-02 05:30:44   \n",
       "3     4                   Arizona             US  2021-01-02 05:30:44   \n",
       "4     5                  Arkansas             US  2021-01-02 05:30:44   \n",
       "..  ...                       ...            ...                  ...   \n",
       "95   37            North Carolina             US  2021-01-03 05:30:33   \n",
       "96   38              North Dakota             US  2021-01-03 05:30:33   \n",
       "97   69  Northern Mariana Islands             US  2021-01-03 05:30:33   \n",
       "98   39                      Ohio             US  2021-01-03 05:30:33   \n",
       "99   40                  Oklahoma             US  2021-01-03 05:30:33   \n",
       "\n",
       "   Latitude Longitude  Confirmed  Deaths Recovered  Active  ...  \\\n",
       "0   32.3182  -86.9023     365747    4872    202137  158738  ...   \n",
       "1   61.3707 -152.4044      47019     206      7165   39615  ...   \n",
       "2   -14.271  -170.132          0       0                 0  ...   \n",
       "3   33.7298 -111.4312     530267    9015     76934  444318  ...   \n",
       "4   34.9697  -92.3731     229442    3711    199247   26484  ...   \n",
       "..      ...       ...        ...     ...       ...     ...  ...   \n",
       "95  35.6301  -79.8064     558437    6892    403488  148057  ...   \n",
       "96  47.5289   -99.784      92891    1317     89582    1999  ...   \n",
       "97  15.0979  145.6739        122       2        29      91  ...   \n",
       "98  40.3888  -82.7649     714673   13919    573641  132015  ...   \n",
       "99  35.5653  -96.9289     296343    2527    259841   33687  ...   \n",
       "\n",
       "   People_Hospitalized       UID ISO3   Testing_Rate  Hospitalization_Rate  \\\n",
       "0                       84000001  USA   38448.804196                         \n",
       "1                       84000002  USA  174391.185778                         \n",
       "2                             16  ASM    3846.084722                         \n",
       "3                       84000004  USA   39551.860582                         \n",
       "4                       84000005  USA   67979.497674                         \n",
       "..                 ...       ...  ...            ...                   ...   \n",
       "95                      84000037  USA   67499.306832                         \n",
       "96                      84000038  USA  169287.669507                         \n",
       "97                           580  MNP   31827.578703                         \n",
       "98                      84000039  USA   66891.445877                         \n",
       "99                      84000040  USA   67990.718153                         \n",
       "\n",
       "   People_Tested Mortality_Rate Cases_28_Days Deaths_28_Days   File_Date  \n",
       "0           None           None           NaN            NaN  01-01-2021  \n",
       "1           None           None           NaN            NaN  01-01-2021  \n",
       "2           None           None           NaN            NaN  01-01-2021  \n",
       "3           None           None           NaN            NaN  01-01-2021  \n",
       "4           None           None           NaN            NaN  01-01-2021  \n",
       "..           ...            ...           ...            ...         ...  \n",
       "95          None           None           NaN            NaN  01-02-2021  \n",
       "96          None           None           NaN            NaN  01-02-2021  \n",
       "97          None           None           NaN            NaN  01-02-2021  \n",
       "98          None           None           NaN            NaN  01-02-2021  \n",
       "99          None           None           NaN            NaN  01-02-2021  \n",
       "\n",
       "[100 rows x 23 columns]"
      ]
     },
     "execution_count": 134,
     "metadata": {},
     "output_type": "execute_result"
    }
   ],
   "source": [
    "dfUS.head(100)"
   ]
  },
  {
   "cell_type": "code",
   "execution_count": 135,
   "metadata": {},
   "outputs": [
    {
     "name": "stdout",
     "output_type": "stream",
     "text": [
      "<class 'pandas.core.frame.DataFrame'>\n",
      "RangeIndex: 31570 entries, 0 to 31569\n",
      "Data columns (total 23 columns):\n",
      " #   Column                Non-Null Count  Dtype  \n",
      "---  ------                --------------  -----  \n",
      " 0   FIPS                  31570 non-null  object \n",
      " 1   Province_State        31570 non-null  object \n",
      " 2   Country_Region        31570 non-null  object \n",
      " 3   Last_Update           31570 non-null  object \n",
      " 4   Latitude              31570 non-null  object \n",
      " 5   Longitude             31570 non-null  object \n",
      " 6   Confirmed             31570 non-null  int64  \n",
      " 7   Deaths                31570 non-null  int64  \n",
      " 8   Recovered             31570 non-null  object \n",
      " 9   Active                31570 non-null  object \n",
      " 10  Incident_Rate         31570 non-null  object \n",
      " 11  Case_Fatality_Ratio   19314 non-null  object \n",
      " 12  Total_Test_Results    19314 non-null  object \n",
      " 13  People_Hospitalized   31570 non-null  object \n",
      " 14  UID                   31570 non-null  int64  \n",
      " 15  ISO3                  31570 non-null  object \n",
      " 16  Testing_Rate          31570 non-null  object \n",
      " 17  Hospitalization_Rate  31570 non-null  object \n",
      " 18  People_Tested         12256 non-null  object \n",
      " 19  Mortality_Rate        12256 non-null  object \n",
      " 20  Cases_28_Days         116 non-null    float64\n",
      " 21  Deaths_28_Days        116 non-null    float64\n",
      " 22  File_Date             31570 non-null  object \n",
      "dtypes: float64(2), int64(3), object(18)\n",
      "memory usage: 5.5+ MB\n"
     ]
    }
   ],
   "source": [
    "dfUS.info()"
   ]
  },
  {
   "cell_type": "markdown",
   "metadata": {},
   "source": [
    "## 2) Изменяем типы данных"
   ]
  },
  {
   "cell_type": "code",
   "execution_count": 136,
   "metadata": {},
   "outputs": [],
   "source": [
    "def SetStringType(df, *columnNames):\n",
    "    for name in columnNames:\n",
    "        df[name] = df[name].astype(\"string\")"
   ]
  },
  {
   "cell_type": "code",
   "execution_count": 137,
   "metadata": {},
   "outputs": [],
   "source": [
    "dfUS['Last_Update']          = pd.to_datetime(dfUS['Last_Update'])\n",
    "dfUS['File_Date']            = pd.to_datetime(dfUS['File_Date'])\n",
    "dfUS[\"FIPS\"]                 = pd.to_numeric(dfUS[\"FIPS\"])\n",
    "dfUS[\"Confirmed\"]            = pd.to_numeric(dfUS[\"Confirmed\"])\n",
    "dfUS[\"Deaths\"]               = pd.to_numeric(dfUS[\"Deaths\"])\n",
    "dfUS[\"Recovered\"]            = pd.to_numeric(dfUS[\"Recovered\"])\n",
    "dfUS[\"Active\"]               = pd.to_numeric(dfUS[\"Active\"])\n",
    "dfUS[\"Latitude\"]             = pd.to_numeric(dfUS[\"Latitude\"])\n",
    "dfUS[\"Longitude\"]            = pd.to_numeric(dfUS[\"Longitude\"])\n",
    "dfUS[\"Incident_Rate\"]        = pd.to_numeric(dfUS[\"Incident_Rate\"])\n",
    "dfUS[\"Case_Fatality_Ratio\"]  = pd.to_numeric(dfUS[\"Case_Fatality_Ratio\"])\n",
    "dfUS[\"Total_Test_Results\"]   = pd.to_numeric(dfUS[\"Total_Test_Results\"])\n",
    "dfUS[\"People_Hospitalized\"]  = pd.to_numeric(dfUS[\"People_Hospitalized\"])\n",
    "dfUS[\"UID\"]                  = pd.to_numeric(dfUS[\"UID\"])\n",
    "dfUS[\"Testing_Rate\"]         = pd.to_numeric(dfUS[\"Testing_Rate\"])\n",
    "dfUS[\"Hospitalization_Rate\"] = pd.to_numeric(dfUS[\"Hospitalization_Rate\"])\n",
    "dfUS[\"People_Tested\"]        = pd.to_numeric(dfUS[\"People_Tested\"])\n",
    "dfUS[\"Mortality_Rate\"]       = pd.to_numeric(dfUS[\"Mortality_Rate\"])\n",
    "dfUS[\"Cases_28_Days\"]        = pd.to_numeric(dfUS[\"Cases_28_Days\"])\n",
    "dfUS[\"Deaths_28_Days\"]       = pd.to_numeric(dfUS[\"Deaths_28_Days\"])\n",
    "\n",
    "SetStringType(dfUS, \"Province_State\", \"Country_Region\", \"ISO3\")"
   ]
  },
  {
   "cell_type": "markdown",
   "metadata": {},
   "source": [
    "## Проверка на нулевые значения"
   ]
  },
  {
   "cell_type": "code",
   "execution_count": 138,
   "metadata": {},
   "outputs": [
    {
     "data": {
      "text/plain": [
       "FIPS                       19\n",
       "Province_State              0\n",
       "Country_Region              0\n",
       "Last_Update                19\n",
       "Latitude                 1106\n",
       "Longitude                1106\n",
       "Confirmed                   0\n",
       "Deaths                      0\n",
       "Recovered               16448\n",
       "Active                  12487\n",
       "Incident_Rate            1106\n",
       "Case_Fatality_Ratio     12587\n",
       "Total_Test_Results      12940\n",
       "People_Hospitalized     26441\n",
       "UID                         0\n",
       "ISO3                        0\n",
       "Testing_Rate             1124\n",
       "Hospitalization_Rate    26441\n",
       "People_Tested           19754\n",
       "Mortality_Rate          19543\n",
       "Cases_28_Days           31454\n",
       "Deaths_28_Days          31454\n",
       "File_Date                   0\n",
       "dtype: int64"
      ]
     },
     "execution_count": 138,
     "metadata": {},
     "output_type": "execute_result"
    }
   ],
   "source": [
    "dfUS.isnull().sum()"
   ]
  },
  {
   "cell_type": "markdown",
   "metadata": {},
   "source": [
    "## FIPS, Incident_Rate не изменяем. 19 null значений в Last_Update говорят об не актуальности информации в этих строках, поэтому необходимо зачистить их "
   ]
  },
  {
   "cell_type": "code",
   "execution_count": 139,
   "metadata": {},
   "outputs": [],
   "source": [
    "dfUS = dfUS.dropna(subset=['Last_Update'])"
   ]
  },
  {
   "cell_type": "markdown",
   "metadata": {},
   "source": [
    "## Изначально Hospitalization_Rate, People_Hospitalized не заполнены, поэтому удаляем эти столбцы"
   ]
  },
  {
   "cell_type": "code",
   "execution_count": 140,
   "metadata": {},
   "outputs": [],
   "source": [
    "del dfUS['People_Hospitalized'], dfUS['Hospitalization_Rate']"
   ]
  },
  {
   "cell_type": "markdown",
   "metadata": {},
   "source": [
    "## В Cases_28_Days и Deaths_28_Days подозрительно много null значений, выявим, в каких файлах появлялись эти поля"
   ]
  },
  {
   "cell_type": "code",
   "execution_count": 141,
   "metadata": {},
   "outputs": [
    {
     "name": "stdout",
     "output_type": "stream",
     "text": [
      "D:/GitHub/DA/csse_covid_19_data/csse_covid_19_daily_reports_us/08-09-2021.csv\n",
      "D:/GitHub/DA/csse_covid_19_data/csse_covid_19_daily_reports_us/08-10-2021.csv\n"
     ]
    }
   ],
   "source": [
    "path = \"D:\\GitHub\\DA\\csse_covid_19_data\\csse_covid_19_daily_reports_us\"\n",
    "fileNameList = GetFileNameList(path)\n",
    "for name in fileNameList:\n",
    "    if (\".csv\" in name):\n",
    "        with open(name, encoding='utf-8') as r_file:\n",
    "            fileReader = csv.reader(r_file, delimiter = \",\")\n",
    "            headRow = AddFileDateFieldToText(GetHeadRowFromFileReader(fileReader))\n",
    "            if ((\"Cases_28_Days\" in headRow) | (\"Deaths_28_Days\" in headRow)):\n",
    "                print(name)"
   ]
  },
  {
   "cell_type": "markdown",
   "metadata": {},
   "source": [
    "## Данные поля практически не влиют на статистику из-за масштабы последней, поэтому их можно удалить"
   ]
  },
  {
   "cell_type": "code",
   "execution_count": 142,
   "metadata": {},
   "outputs": [],
   "source": [
    "del dfUS['Cases_28_Days'], dfUS['Deaths_28_Days']"
   ]
  },
  {
   "cell_type": "markdown",
   "metadata": {},
   "source": [
    "## В остальных null значения заменяем на 0"
   ]
  },
  {
   "cell_type": "code",
   "execution_count": 143,
   "metadata": {},
   "outputs": [],
   "source": [
    "dfUS[\"Latitude\"].fillna(0, inplace=True)\n",
    "dfUS[\"Longitude\"].fillna(0, inplace=True)\n",
    "dfUS[\"Active\"].fillna(0, inplace=True)\n",
    "dfUS[\"Recovered\"].fillna(0, inplace=True)\n",
    "dfUS[\"Total_Test_Results\"].fillna(0, inplace=True)\n",
    "dfUS[\"Testing_Rate\"].fillna(0, inplace=True)\n",
    "dfUS[\"People_Tested\"].fillna(0, inplace=True)\n",
    "dfUS[\"Mortality_Rate\"].fillna(0, inplace=True)"
   ]
  },
  {
   "cell_type": "markdown",
   "metadata": {},
   "source": [
    "## Проверка и удаление аномальных значений"
   ]
  },
  {
   "cell_type": "markdown",
   "metadata": {},
   "source": [
    "### FIPS - в порядке"
   ]
  },
  {
   "cell_type": "code",
   "execution_count": 144,
   "metadata": {},
   "outputs": [
    {
     "name": "stdout",
     "output_type": "stream",
     "text": [
      "Min:  1.0\n"
     ]
    }
   ],
   "source": [
    "print('Min: ', dfUS['FIPS'].min())"
   ]
  },
  {
   "cell_type": "markdown",
   "metadata": {},
   "source": [
    "### Last Update - в порядке"
   ]
  },
  {
   "cell_type": "code",
   "execution_count": 145,
   "metadata": {},
   "outputs": [
    {
     "name": "stdout",
     "output_type": "stream",
     "text": [
      "Min:  2020-04-12 23:18:15\n",
      "Max:  2021-10-08 04:31:23\n"
     ]
    }
   ],
   "source": [
    "print('Min: ', dfUS['Last_Update'].min())\n",
    "print('Max: ', dfUS['Last_Update'].max())"
   ]
  },
  {
   "cell_type": "markdown",
   "metadata": {},
   "source": [
    "### Confirmed - в порядке"
   ]
  },
  {
   "cell_type": "code",
   "execution_count": 146,
   "metadata": {},
   "outputs": [
    {
     "name": "stdout",
     "output_type": "stream",
     "text": [
      "Min:  0\n"
     ]
    }
   ],
   "source": [
    "print('Min: ', dfUS['Confirmed'].min())"
   ]
  },
  {
   "cell_type": "markdown",
   "metadata": {},
   "source": [
    "### Deaths - в порядке"
   ]
  },
  {
   "cell_type": "code",
   "execution_count": 147,
   "metadata": {},
   "outputs": [
    {
     "name": "stdout",
     "output_type": "stream",
     "text": [
      "Min:  0\n"
     ]
    }
   ],
   "source": [
    "print('Min: ', dfUS['Deaths'].min())"
   ]
  },
  {
   "cell_type": "markdown",
   "metadata": {},
   "source": [
    "### Recovered - в порядке"
   ]
  },
  {
   "cell_type": "code",
   "execution_count": 148,
   "metadata": {},
   "outputs": [
    {
     "name": "stdout",
     "output_type": "stream",
     "text": [
      "Min:  0.0\n"
     ]
    }
   ],
   "source": [
    "print('Min: ', dfUS['Recovered'].min())"
   ]
  },
  {
   "cell_type": "markdown",
   "metadata": {},
   "source": [
    "### Active - ошибка"
   ]
  },
  {
   "cell_type": "code",
   "execution_count": 149,
   "metadata": {},
   "outputs": [
    {
     "name": "stdout",
     "output_type": "stream",
     "text": [
      "Min:  -120720.0\n"
     ]
    }
   ],
   "source": [
    "print('Min: ', dfUS['Active'].min())"
   ]
  },
  {
   "cell_type": "code",
   "execution_count": 150,
   "metadata": {},
   "outputs": [],
   "source": [
    "dfUS = dfUS.drop(dfUS[dfUS.Active < 0].index)"
   ]
  },
  {
   "cell_type": "markdown",
   "metadata": {},
   "source": [
    "### Total_Test_Results - в порядке"
   ]
  },
  {
   "cell_type": "code",
   "execution_count": 151,
   "metadata": {},
   "outputs": [
    {
     "name": "stdout",
     "output_type": "stream",
     "text": [
      "Min:  0.0\n"
     ]
    }
   ],
   "source": [
    "print('Min: ', dfUS['Total_Test_Results'].min())"
   ]
  },
  {
   "cell_type": "markdown",
   "metadata": {},
   "source": [
    "### People_Tested - в порядке"
   ]
  },
  {
   "cell_type": "code",
   "execution_count": 152,
   "metadata": {},
   "outputs": [
    {
     "name": "stdout",
     "output_type": "stream",
     "text": [
      "Min:  0.0\n"
     ]
    }
   ],
   "source": [
    "print('Min: ', dfUS['People_Tested'].min())"
   ]
  },
  {
   "cell_type": "markdown",
   "metadata": {},
   "source": [
    "### Mortality_Rate - в порядке"
   ]
  },
  {
   "cell_type": "code",
   "execution_count": 153,
   "metadata": {},
   "outputs": [
    {
     "name": "stdout",
     "output_type": "stream",
     "text": [
      "Min:  0.0\n"
     ]
    }
   ],
   "source": [
    "print('Min: ', dfUS['Mortality_Rate'].min())"
   ]
  },
  {
   "cell_type": "markdown",
   "metadata": {},
   "source": [
    "## Case_Fatality_Ratio вычисляется по аналогии с Reports, взятой с GitHub Case-Fatality Ratio (%) = Number recorded deaths / Number cases"
   ]
  },
  {
   "cell_type": "code",
   "execution_count": 154,
   "metadata": {},
   "outputs": [],
   "source": [
    "#там, где Confirmed(знаменатель) пуст, чтобы избежать ошибок при делении сразу ставим у Case_Fatality_Ratio\n",
    "dfUS.loc[dfUS['Confirmed'] == 0, 'Case_Fatality_Ratio'] = 0 \n",
    "dfUS['Case_Fatality_Ratio'].fillna(dfUS['Deaths'] / dfUS['Confirmed'] * 100, inplace=True)"
   ]
  },
  {
   "cell_type": "markdown",
   "metadata": {},
   "source": [
    "## Получим обновленную информацию"
   ]
  },
  {
   "cell_type": "code",
   "execution_count": 155,
   "metadata": {},
   "outputs": [
    {
     "data": {
      "text/plain": [
       "FIPS                      0\n",
       "Province_State            0\n",
       "Country_Region            0\n",
       "Last_Update               0\n",
       "Latitude                  0\n",
       "Longitude                 0\n",
       "Confirmed                 0\n",
       "Deaths                    0\n",
       "Recovered                 0\n",
       "Active                    0\n",
       "Incident_Rate          1088\n",
       "Case_Fatality_Ratio       0\n",
       "Total_Test_Results        0\n",
       "UID                       0\n",
       "ISO3                      0\n",
       "Testing_Rate              0\n",
       "People_Tested             0\n",
       "Mortality_Rate            0\n",
       "File_Date                 0\n",
       "dtype: int64"
      ]
     },
     "execution_count": 155,
     "metadata": {},
     "output_type": "execute_result"
    }
   ],
   "source": [
    "dfUS.isnull().sum()"
   ]
  },
  {
   "cell_type": "markdown",
   "metadata": {},
   "source": [
    "## Unconnection"
   ]
  },
  {
   "cell_type": "code",
   "execution_count": 156,
   "metadata": {},
   "outputs": [],
   "source": [
    "cur.close()\n",
    "con.close()"
   ]
  }
 ],
 "metadata": {
  "interpreter": {
   "hash": "2b0b7f22fc72655224cacb267bb22db5a7318590e2506a2d1fcc223306ff94b3"
  },
  "kernelspec": {
   "display_name": "Python 3.9.6 64-bit (system)",
   "name": "python3"
  },
  "language_info": {
   "codemirror_mode": {
    "name": "ipython",
    "version": 3
   },
   "file_extension": ".py",
   "mimetype": "text/x-python",
   "name": "python",
   "nbconvert_exporter": "python",
   "pygments_lexer": "ipython3",
   "version": "3.9.2"
  },
  "orig_nbformat": 4
 },
 "nbformat": 4,
 "nbformat_minor": 2
}
